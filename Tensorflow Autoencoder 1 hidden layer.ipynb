{
 "cells": [
  {
   "cell_type": "markdown",
   "metadata": {},
   "source": [
    "# Autoencoder implementation with Tensorflow for MNIST dataset"
   ]
  },
  {
   "cell_type": "markdown",
   "metadata": {},
   "source": [
    "This is a copy of the autoencoder_tf.py from the GAN and VAE course but with additional comments \n",
    "\n",
    "Goal: for personal learning of VAE on the reconstruction of MNIST dataset digit images  \n",
    "\n",
    "https://deeplearningcourses.com/c/deep-learning-gans-and-variational-autoencoders\n",
    "https://www.udemy.com/deep-learning-gans-and-variational-autoencoders"
   ]
  },
  {
   "cell_type": "code",
   "execution_count": 6,
   "metadata": {},
   "outputs": [],
   "source": [
    "from __future__ import print_function, division\n",
    "from builtins import range, input\n",
    "# Note: you may need to update your version of future\n",
    "# sudo pip install -U future\n",
    "\n",
    "import util\n",
    "import numpy as np\n",
    "import tensorflow as tf\n",
    "import matplotlib.pyplot as plt"
   ]
  },
  {
   "cell_type": "markdown",
   "metadata": {},
   "source": [
    "## Notes about the mnist dataset:\n",
    "\n",
    "- It's meant to be a dataset of 70000 images of 28 * 28 pixels (784 pixels).\n",
    "\n",
    "\n",
    "- In the edited current dataset, it has 48000 samples for training data and 28000 samples for test data.\n",
    "- Each sample is a row in the csv file.\n",
    "- Each column is a 'feature' which is actually just the pixel, with 784 pixels.\n",
    "- Each value is a RGB code from 0 to 255. \n",
    "\n",
    "\n",
    "- In the util.py, the get_mnist function will divide every single pixel value by 255 to get a value from 0 to 1, thus grayscaling the whole dataset.\n",
    "\n",
    "\n"
   ]
  },
  {
   "cell_type": "code",
   "execution_count": null,
   "metadata": {},
   "outputs": [],
   "source": []
  },
  {
   "cell_type": "code",
   "execution_count": 15,
   "metadata": {},
   "outputs": [],
   "source": [
    "# construct the Autoencoder class \n",
    "# 1 hidden layer neural net with ReLU activation function and sigmoid output \n",
    "# --> MNIST dataset images each values only 0 or 1\n",
    "\n",
    "class Autoencoder:\n",
    "    def __init__(self, D, M): \n",
    "        # the input and output layer (encoder and decoder) will have same dimension of D x 1 size \n",
    "        \n",
    "        # training data batch (input layer)\n",
    "        self.X = tf.placeholder(tf.float32, shape = (None, D)) # input 2D matrix of n x D (n is a variable, thus None)\n",
    "        \n",
    "        # input --> hidden \n",
    "        self.W = tf.Variable(tf.random_normal(shape = (D, M)) * np.sqrt(2.0/M)) # set the weights \n",
    "        self.b = tf.Variable(np.zeros(M).astype(np.float32))\n",
    "        \n",
    "        # hidden --> output \n",
    "        self.V = tf.Variable(tf.random_normal(shape = (M, D)) * np.sqrt(2.0/D)) \n",
    "        self.c = tf.Variable(np.zeros(D).astype(np.float32))\n",
    "        \n",
    "        # construct the reconstruction \n",
    "        self.Z = tf.nn.relu(tf.matmul(self.X, self.W) + self.b) # input --> hidden\n",
    "        logits = tf.matmul(self.Z, self.V) + self.c # hidden --> output\n",
    "        self.X_hat = tf.nn.sigmoid(logits) # final output layer \n",
    "        \n",
    "        # compute the cost \n",
    "        self.cost = tf.reduce_sum(tf.nn.sigmoid_cross_entropy_with_logits(\n",
    "                                    labels = self.X,\n",
    "                                    logits = logits))\n",
    "        \n",
    "        # make the trainer \n",
    "        self.train_op = tf.train.RMSPropOptimizer(learning_rate = 0.001).minimize(self.cost) # optimize by minimizing cost\n",
    "        \n",
    "        # set up the session and variables for later \n",
    "        self.init_op = tf.global_variables_initializer()\n",
    "        self.sess = tf.InteractiveSession()\n",
    "        self.sess.run(self.init_op)\n",
    "    \n",
    "    # fit function for the autoencoder class \n",
    "    def fit(self, X, epochs = 30, batch_size = 64):\n",
    "        costs = []\n",
    "        n_batches = len(X) // batch_size \n",
    "        print(\"Number of batches: \", n_batches)\n",
    "        \n",
    "        # loop over all epochs \n",
    "        for i in range(epochs):\n",
    "            print(\"\")\n",
    "            print(\"Currently at Epoch \", i)\n",
    "            \n",
    "            # loop over all batches \n",
    "            for j in range(n_batches):\n",
    "                batch = X[j * batch_size : (j+1)*batch_size ] # slice batch from X training set\n",
    "                _, cost = self.sess.run((self.train_op, self.cost), feed_dict = {self.X : batch})\n",
    "                cost /= batch_size \n",
    "                costs.append(cost)\n",
    "                \n",
    "                if j % 100 == 0:\n",
    "                    print(\"iter: %d, Cost: %.3f\" % (j, cost))\n",
    "        # plot cost over time\n",
    "        plt.plot(costs)\n",
    "        plt.show()\n",
    "    \n",
    "    # predict function for reconstruction \n",
    "    def predict(self, X):\n",
    "        return self.sess.run(self.X_hat, feed_dict = {self.X: X})    "
   ]
  },
  {
   "cell_type": "code",
   "execution_count": 16,
   "metadata": {},
   "outputs": [
    {
     "name": "stdout",
     "output_type": "stream",
     "text": [
      "Reading in and transforming data...\n"
     ]
    },
    {
     "name": "stderr",
     "output_type": "stream",
     "text": [
      "C:\\Users\\pengf\\AppData\\Roaming\\Python\\Python36\\site-packages\\tensorflow\\python\\client\\session.py:1735: UserWarning: An interactive session is already active. This can cause out-of-memory errors in some cases. You must explicitly call `InteractiveSession.close()` to release resources held by the other session(s).\n",
      "  warnings.warn('An interactive session is already active. This can '\n"
     ]
    },
    {
     "name": "stdout",
     "output_type": "stream",
     "text": [
      "Number of batches:  656\n",
      "\n",
      "Currently at Epoch  0\n",
      "iter: 0, Cost: 560.259\n",
      "iter: 100, Cost: 112.964\n",
      "iter: 200, Cost: 91.099\n",
      "iter: 300, Cost: 77.048\n",
      "iter: 400, Cost: 72.601\n",
      "iter: 500, Cost: 70.729\n",
      "iter: 600, Cost: 66.047\n",
      "\n",
      "Currently at Epoch  1\n",
      "iter: 0, Cost: 60.448\n",
      "iter: 100, Cost: 62.744\n",
      "iter: 200, Cost: 63.421\n",
      "iter: 300, Cost: 60.861\n",
      "iter: 400, Cost: 61.797\n",
      "iter: 500, Cost: 61.202\n",
      "iter: 600, Cost: 61.314\n",
      "\n",
      "Currently at Epoch  2\n",
      "iter: 0, Cost: 54.135\n",
      "iter: 100, Cost: 58.059\n",
      "iter: 200, Cost: 59.069\n",
      "iter: 300, Cost: 56.669\n",
      "iter: 400, Cost: 58.445\n",
      "iter: 500, Cost: 56.744\n",
      "iter: 600, Cost: 58.796\n",
      "\n",
      "Currently at Epoch  3\n",
      "iter: 0, Cost: 52.785\n",
      "iter: 100, Cost: 55.488\n",
      "iter: 200, Cost: 55.690\n",
      "iter: 300, Cost: 54.534\n",
      "iter: 400, Cost: 57.062\n",
      "iter: 500, Cost: 55.100\n",
      "iter: 600, Cost: 56.604\n",
      "\n",
      "Currently at Epoch  4\n",
      "iter: 0, Cost: 51.484\n",
      "iter: 100, Cost: 54.435\n",
      "iter: 200, Cost: 54.862\n",
      "iter: 300, Cost: 53.611\n",
      "iter: 400, Cost: 56.672\n",
      "iter: 500, Cost: 55.425\n",
      "iter: 600, Cost: 54.106\n",
      "\n",
      "Currently at Epoch  5\n",
      "iter: 0, Cost: 51.197\n",
      "iter: 100, Cost: 53.188\n",
      "iter: 200, Cost: 56.225\n",
      "iter: 300, Cost: 53.625\n",
      "iter: 400, Cost: 55.221\n",
      "iter: 500, Cost: 54.644\n",
      "iter: 600, Cost: 54.597\n",
      "\n",
      "Currently at Epoch  6\n",
      "iter: 0, Cost: 50.549\n",
      "iter: 100, Cost: 52.569\n",
      "iter: 200, Cost: 54.325\n",
      "iter: 300, Cost: 52.462\n",
      "iter: 400, Cost: 54.616\n",
      "iter: 500, Cost: 53.478\n",
      "iter: 600, Cost: 53.578\n",
      "\n",
      "Currently at Epoch  7\n",
      "iter: 0, Cost: 50.709\n",
      "iter: 100, Cost: 52.295\n",
      "iter: 200, Cost: 55.204\n",
      "iter: 300, Cost: 53.029\n",
      "iter: 400, Cost: 53.750\n",
      "iter: 500, Cost: 53.405\n",
      "iter: 600, Cost: 53.114\n",
      "\n",
      "Currently at Epoch  8\n",
      "iter: 0, Cost: 49.825\n",
      "iter: 100, Cost: 52.361\n",
      "iter: 200, Cost: 54.553\n",
      "iter: 300, Cost: 51.831\n",
      "iter: 400, Cost: 53.454\n",
      "iter: 500, Cost: 52.950\n",
      "iter: 600, Cost: 52.910\n",
      "\n",
      "Currently at Epoch  9\n",
      "iter: 0, Cost: 49.840\n",
      "iter: 100, Cost: 51.816\n",
      "iter: 200, Cost: 53.870\n",
      "iter: 300, Cost: 51.668\n",
      "iter: 400, Cost: 53.020\n",
      "iter: 500, Cost: 52.765\n",
      "iter: 600, Cost: 52.550\n",
      "\n",
      "Currently at Epoch  10\n",
      "iter: 0, Cost: 49.358\n",
      "iter: 100, Cost: 51.589\n",
      "iter: 200, Cost: 53.392\n",
      "iter: 300, Cost: 51.396\n",
      "iter: 400, Cost: 52.297\n",
      "iter: 500, Cost: 52.350\n",
      "iter: 600, Cost: 52.375\n",
      "\n",
      "Currently at Epoch  11\n",
      "iter: 0, Cost: 49.303\n",
      "iter: 100, Cost: 51.449\n",
      "iter: 200, Cost: 54.159\n",
      "iter: 300, Cost: 51.094\n",
      "iter: 400, Cost: 51.971\n",
      "iter: 500, Cost: 51.908\n",
      "iter: 600, Cost: 52.294\n",
      "\n",
      "Currently at Epoch  12\n",
      "iter: 0, Cost: 49.185\n",
      "iter: 100, Cost: 51.283\n",
      "iter: 200, Cost: 53.709\n",
      "iter: 300, Cost: 51.615\n",
      "iter: 400, Cost: 52.066\n",
      "iter: 500, Cost: 52.012\n",
      "iter: 600, Cost: 52.091\n",
      "\n",
      "Currently at Epoch  13\n",
      "iter: 0, Cost: 49.149\n",
      "iter: 100, Cost: 51.722\n",
      "iter: 200, Cost: 52.642\n",
      "iter: 300, Cost: 51.668\n",
      "iter: 400, Cost: 51.594\n",
      "iter: 500, Cost: 52.038\n",
      "iter: 600, Cost: 51.868\n",
      "\n",
      "Currently at Epoch  14\n",
      "iter: 0, Cost: 49.039\n",
      "iter: 100, Cost: 51.396\n",
      "iter: 200, Cost: 53.014\n",
      "iter: 300, Cost: 51.213\n",
      "iter: 400, Cost: 51.508\n",
      "iter: 500, Cost: 51.587\n",
      "iter: 600, Cost: 51.861\n",
      "\n",
      "Currently at Epoch  15\n",
      "iter: 0, Cost: 48.980\n",
      "iter: 100, Cost: 51.799\n",
      "iter: 200, Cost: 52.868\n",
      "iter: 300, Cost: 50.919\n",
      "iter: 400, Cost: 51.509\n",
      "iter: 500, Cost: 51.845\n",
      "iter: 600, Cost: 51.824\n",
      "\n",
      "Currently at Epoch  16\n",
      "iter: 0, Cost: 48.667\n",
      "iter: 100, Cost: 50.965\n",
      "iter: 200, Cost: 52.469\n",
      "iter: 300, Cost: 51.277\n",
      "iter: 400, Cost: 51.130\n",
      "iter: 500, Cost: 51.362\n",
      "iter: 600, Cost: 51.641\n",
      "\n",
      "Currently at Epoch  17\n",
      "iter: 0, Cost: 49.258\n",
      "iter: 100, Cost: 50.908\n",
      "iter: 200, Cost: 52.975\n",
      "iter: 300, Cost: 50.850\n",
      "iter: 400, Cost: 51.331\n",
      "iter: 500, Cost: 51.344\n",
      "iter: 600, Cost: 51.555\n",
      "\n",
      "Currently at Epoch  18\n",
      "iter: 0, Cost: 48.538\n",
      "iter: 100, Cost: 50.852\n",
      "iter: 200, Cost: 52.683\n",
      "iter: 300, Cost: 51.158\n",
      "iter: 400, Cost: 50.946\n",
      "iter: 500, Cost: 51.350\n",
      "iter: 600, Cost: 51.717\n",
      "\n",
      "Currently at Epoch  19\n",
      "iter: 0, Cost: 49.252\n",
      "iter: 100, Cost: 51.008\n",
      "iter: 200, Cost: 52.332\n",
      "iter: 300, Cost: 51.389\n",
      "iter: 400, Cost: 50.893\n",
      "iter: 500, Cost: 51.328\n",
      "iter: 600, Cost: 51.299\n",
      "\n",
      "Currently at Epoch  20\n",
      "iter: 0, Cost: 48.603\n",
      "iter: 100, Cost: 50.660\n",
      "iter: 200, Cost: 52.456\n",
      "iter: 300, Cost: 50.730\n",
      "iter: 400, Cost: 51.056\n",
      "iter: 500, Cost: 51.515\n",
      "iter: 600, Cost: 51.366\n",
      "\n",
      "Currently at Epoch  21\n",
      "iter: 0, Cost: 48.421\n",
      "iter: 100, Cost: 50.638\n",
      "iter: 200, Cost: 52.316\n",
      "iter: 300, Cost: 50.709\n",
      "iter: 400, Cost: 51.072\n",
      "iter: 500, Cost: 51.043\n",
      "iter: 600, Cost: 51.581\n",
      "\n",
      "Currently at Epoch  22\n",
      "iter: 0, Cost: 48.421\n",
      "iter: 100, Cost: 50.571\n",
      "iter: 200, Cost: 52.536\n",
      "iter: 300, Cost: 50.618\n",
      "iter: 400, Cost: 51.294\n",
      "iter: 500, Cost: 50.928\n",
      "iter: 600, Cost: 51.137\n",
      "\n",
      "Currently at Epoch  23\n",
      "iter: 0, Cost: 48.479\n",
      "iter: 100, Cost: 50.433\n",
      "iter: 200, Cost: 52.535\n",
      "iter: 300, Cost: 50.623\n",
      "iter: 400, Cost: 50.819\n",
      "iter: 500, Cost: 51.280\n",
      "iter: 600, Cost: 51.349\n",
      "\n",
      "Currently at Epoch  24\n",
      "iter: 0, Cost: 48.578\n",
      "iter: 100, Cost: 50.327\n",
      "iter: 200, Cost: 52.069\n",
      "iter: 300, Cost: 50.508\n",
      "iter: 400, Cost: 51.012\n",
      "iter: 500, Cost: 50.994\n",
      "iter: 600, Cost: 51.260\n",
      "\n",
      "Currently at Epoch  25\n",
      "iter: 0, Cost: 48.687\n",
      "iter: 100, Cost: 50.357\n",
      "iter: 200, Cost: 52.175\n",
      "iter: 300, Cost: 50.503\n",
      "iter: 400, Cost: 50.879\n",
      "iter: 500, Cost: 50.796\n",
      "iter: 600, Cost: 51.170\n",
      "\n",
      "Currently at Epoch  26\n",
      "iter: 0, Cost: 48.299\n",
      "iter: 100, Cost: 50.462\n",
      "iter: 200, Cost: 52.180\n",
      "iter: 300, Cost: 50.509\n",
      "iter: 400, Cost: 50.605\n",
      "iter: 500, Cost: 51.055\n",
      "iter: 600, Cost: 51.062\n",
      "\n",
      "Currently at Epoch  27\n",
      "iter: 0, Cost: 48.504\n",
      "iter: 100, Cost: 50.213\n",
      "iter: 200, Cost: 52.302\n",
      "iter: 300, Cost: 50.284\n",
      "iter: 400, Cost: 50.854\n",
      "iter: 500, Cost: 50.837\n",
      "iter: 600, Cost: 51.207\n",
      "\n",
      "Currently at Epoch  28\n",
      "iter: 0, Cost: 48.307\n",
      "iter: 100, Cost: 50.238\n",
      "iter: 200, Cost: 52.260\n",
      "iter: 300, Cost: 50.354\n",
      "iter: 400, Cost: 50.648\n",
      "iter: 500, Cost: 50.932\n",
      "iter: 600, Cost: 51.029\n",
      "\n",
      "Currently at Epoch  29\n",
      "iter: 0, Cost: 48.447\n",
      "iter: 100, Cost: 50.145\n",
      "iter: 200, Cost: 52.074\n",
      "iter: 300, Cost: 50.328\n",
      "iter: 400, Cost: 50.632\n",
      "iter: 500, Cost: 50.802\n",
      "iter: 600, Cost: 50.993\n"
     ]
    },
    {
     "data": {
      "image/png": "[encoded data removed]",
      "text/plain": [
       "<Figure size 432x288 with 1 Axes>"
      ]
     },
     "metadata": {
      "needs_background": "light"
     },
     "output_type": "display_data"
    },
    {
     "data": {
      "image/png": "[encoded data removed]",
      "text/plain": [
       "<Figure size 432x288 with 2 Axes>"
      ]
     },
     "metadata": {
      "needs_background": "light"
     },
     "output_type": "display_data"
    },
    {
     "name": "stdout",
     "output_type": "stream",
     "text": [
      "Do you want to generate another?y\n"
     ]
    },
    {
     "data": {
      "image/png": "[encoded data removed]",
      "text/plain": [
       "<Figure size 432x288 with 2 Axes>"
      ]
     },
     "metadata": {
      "needs_background": "light"
     },
     "output_type": "display_data"
    },
    {
     "name": "stdout",
     "output_type": "stream",
     "text": [
      "Do you want to generate another?y\n"
     ]
    },
    {
     "data": {
      "image/png": "[encoded data removed]",
      "text/plain": [
       "<Figure size 432x288 with 2 Axes>"
      ]
     },
     "metadata": {
      "needs_background": "light"
     },
     "output_type": "display_data"
    },
    {
     "name": "stdout",
     "output_type": "stream",
     "text": [
      "Do you want to generate another?y\n"
     ]
    },
    {
     "data": {
      "image/png": "[encoded data removed]",
      "text/plain": [
       "<Figure size 432x288 with 2 Axes>"
      ]
     },
     "metadata": {
      "needs_background": "light"
     },
     "output_type": "display_data"
    },
    {
     "name": "stdout",
     "output_type": "stream",
     "text": [
      "Do you want to generate another?\n"
     ]
    },
    {
     "data": {
      "image/png": "[encoded data removed]",
      "text/plain": [
       "<Figure size 432x288 with 2 Axes>"
      ]
     },
     "metadata": {
      "needs_background": "light"
     },
     "output_type": "display_data"
    },
    {
     "name": "stdout",
     "output_type": "stream",
     "text": [
      "Do you want to generate another?\n"
     ]
    },
    {
     "data": {
      "image/png": "[encoded data removed]",
      "text/plain": [
       "<Figure size 432x288 with 2 Axes>"
      ]
     },
     "metadata": {
      "needs_background": "light"
     },
     "output_type": "display_data"
    },
    {
     "name": "stdout",
     "output_type": "stream",
     "text": [
      "Do you want to generate another?\n"
     ]
    },
    {
     "data": {
      "image/png": "[encoded data removed]",
      "text/plain": [
       "<Figure size 432x288 with 2 Axes>"
      ]
     },
     "metadata": {
      "needs_background": "light"
     },
     "output_type": "display_data"
    },
    {
     "name": "stdout",
     "output_type": "stream",
     "text": [
      "Do you want to generate another?\n"
     ]
    },
    {
     "data": {
      "image/png": "[encoded data removed]",
      "text/plain": [
       "<Figure size 432x288 with 2 Axes>"
      ]
     },
     "metadata": {
      "needs_background": "light"
     },
     "output_type": "display_data"
    },
    {
     "name": "stdout",
     "output_type": "stream",
     "text": [
      "Do you want to generate another?\n"
     ]
    },
    {
     "data": {
      "image/png": "[encoded data removed]",
      "text/plain": [
       "<Figure size 432x288 with 2 Axes>"
      ]
     },
     "metadata": {
      "needs_background": "light"
     },
     "output_type": "display_data"
    },
    {
     "name": "stdout",
     "output_type": "stream",
     "text": [
      "Do you want to generate another?\n"
     ]
    },
    {
     "data": {
      "image/png": "[encoded data removed]",
      "text/plain": [
       "<Figure size 432x288 with 2 Axes>"
      ]
     },
     "metadata": {
      "needs_background": "light"
     },
     "output_type": "display_data"
    },
    {
     "name": "stdout",
     "output_type": "stream",
     "text": [
      "Do you want to generate another?\n"
     ]
    },
    {
     "data": {
      "image/png": "[encoded data removed]",
      "text/plain": [
       "<Figure size 432x288 with 2 Axes>"
      ]
     },
     "metadata": {
      "needs_background": "light"
     },
     "output_type": "display_data"
    },
    {
     "name": "stdout",
     "output_type": "stream",
     "text": [
      "Do you want to generate another?\n"
     ]
    },
    {
     "data": {
      "image/png": "[encoded data removed]",
      "text/plain": [
       "<Figure size 432x288 with 2 Axes>"
      ]
     },
     "metadata": {
      "needs_background": "light"
     },
     "output_type": "display_data"
    },
    {
     "name": "stdout",
     "output_type": "stream",
     "text": [
      "Do you want to generate another?\n"
     ]
    },
    {
     "data": {
      "image/png": "[encoded data removed]",
      "text/plain": [
       "<Figure size 432x288 with 2 Axes>"
      ]
     },
     "metadata": {
      "needs_background": "light"
     },
     "output_type": "display_data"
    },
    {
     "name": "stdout",
     "output_type": "stream",
     "text": [
      "Do you want to generate another?\n"
     ]
    },
    {
     "data": {
      "image/png": "[encoded data removed]",
      "text/plain": [
       "<Figure size 432x288 with 2 Axes>"
      ]
     },
     "metadata": {
      "needs_background": "light"
     },
     "output_type": "display_data"
    },
    {
     "name": "stdout",
     "output_type": "stream",
     "text": [
      "Do you want to generate another?n\n"
     ]
    }
   ],
   "source": [
    "# Main \n",
    "\n",
    "X, Y = util.get_mnist() # get data from mnist csv\n",
    "\n",
    "model = Autoencoder(784, 300) # initialize model with 784 input nodes --> 784 features (28 * 28 pixels of value 0..1)\n",
    "\n",
    "# fit the model with the X training set \n",
    "model.fit(X)\n",
    "\n",
    "# now plot the reconstruction \n",
    "done = False \n",
    "while not done:\n",
    "    i = np.random.choice(len(X)) # choose a random training sample \n",
    "    x = X[i]\n",
    "    image = model.predict([x]).reshape(28, 28) # reshape the 784 * 1 --> 28 * 28 again to be a picture \n",
    "    \n",
    "    plt.subplot(1,2,1) \n",
    "    plt.imshow(x.reshape(28, 28), cmap = 'gray') # grayscale image of original x \n",
    "    plt.title(\"Original Image\")\n",
    "    \n",
    "    plt.subplot(1,2,2)\n",
    "    plt.imshow(image, cmap = 'gray')\n",
    "    plt.title(\"Reconstruction\")\n",
    "    plt.show()\n",
    "    \n",
    "    ans = input(\"Do you want to generate another?\")\n",
    "    if ans and ans[0] in ('n' or 'N'):\n",
    "        done = True"
   ]
  },
  {
   "cell_type": "code",
   "execution_count": 14,
   "metadata": {},
   "outputs": [],
   "source": [
    "# total cost values in the list = 656 * 30"
   ]
  },
  {
   "cell_type": "code",
   "execution_count": null,
   "metadata": {},
   "outputs": [],
   "source": []
  },
  {
   "cell_type": "code",
   "execution_count": null,
   "metadata": {},
   "outputs": [],
   "source": []
  }
 ],
 "metadata": {
  "kernelspec": {
   "display_name": "Python 3",
   "language": "python",
   "name": "python3"
  },
  "language_info": {
   "codemirror_mode": {
    "name": "ipython",
    "version": 3
   },
   "file_extension": ".py",
   "mimetype": "text/x-python",
   "name": "python",
   "nbconvert_exporter": "python",
   "pygments_lexer": "ipython3",
   "version": "3.6.7"
  }
 },
 "nbformat": 4,
 "nbformat_minor": 2
}
